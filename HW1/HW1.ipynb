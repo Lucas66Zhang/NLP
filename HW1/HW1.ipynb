{
 "cells": [
  {
   "cell_type": "code",
   "execution_count": 1,
   "id": "5db00378",
   "metadata": {},
   "outputs": [
    {
     "name": "stderr",
     "output_type": "stream",
     "text": [
      "/Users/longxiangzhang/opt/miniconda3/envs/env1/lib/python3.10/site-packages/tqdm/auto.py:22: TqdmWarning: IProgress not found. Please update jupyter and ipywidgets. See https://ipywidgets.readthedocs.io/en/stable/user_install.html\n",
      "  from .autonotebook import tqdm as notebook_tqdm\n"
     ]
    }
   ],
   "source": [
    "import torch\n",
    "from torch.utils.data import DataLoader\n",
    "from torch.utils.data.dataset import random_split\n",
    "import torch.nn as nn\n",
    "from torch.utils.data import Dataset\n",
    "from torch.utils.data import DataLoader, TensorDataset\n",
    "import time\n",
    "from tqdm import tqdm"
   ]
  },
  {
   "cell_type": "markdown",
   "id": "b6f79343",
   "metadata": {},
   "source": [
    "### Information\n",
    "- We will do a few preliminary exercises and also build a character level MLP language model.\n",
    "- This model will be similar to the model we did in class, except that we will have characters as tokens, not words.\n",
    "- You will need a conda environment for this, here is general information on this.\n",
    " - https://docs.conda.io/projects/conda/en/latest/user-guide/install/index.html\n",
    " - PyTorch: https://anaconda.org/pytorch/pytorch\n",
    " \n",
    "In the code below, FILL-IN the code necessary in the hint string provided."
   ]
  },
  {
   "cell_type": "code",
   "execution_count": null,
   "id": "dcb95b07",
   "metadata": {},
   "outputs": [],
   "source": []
  },
  {
   "cell_type": "markdown",
   "id": "81cb873f",
   "metadata": {},
   "source": [
    "### Preliminary exercises\n",
    "- Please fill in the cells below with the asked for data."
   ]
  },
  {
   "cell_type": "code",
   "execution_count": 2,
   "id": "5a23f069",
   "metadata": {},
   "outputs": [
    {
     "data": {
      "text/plain": [
       "<torch._C.Generator at 0x105073310>"
      ]
     },
     "execution_count": 2,
     "metadata": {},
     "output_type": "execute_result"
    }
   ],
   "source": [
    "torch.manual_seed(1)"
   ]
  },
  {
   "cell_type": "code",
   "execution_count": 3,
   "id": "f91a6ad4",
   "metadata": {},
   "outputs": [],
   "source": [
    "# Create an embedding layer for a vocabulary of size 10 and the word vectors are each of dimension 5.\n",
    "e = \" FILL_IN \"\n",
    "\n",
    "# Extract the embedding for the word whose token index is 3. What is the shape of this vector?\n",
    "v = \" FILL_IN \"\n",
    "\n",
    "# Extract the weight matrix from the layer e.\n",
    "# Create a linear layer (with no bias) of size 10 by 5 and set it's data to the embedding matrix.\n",
    "l = \" FILL_IN \"\n",
    "l.weight = \" FILL_IN \"\n",
    "\n",
    "# Insert inside of the assert below some sort of equality check between l.weight and e.weight; it should pass to true.\n",
    "# Hint: look up torch.all() and torch.eq()\n",
    "assert(\" FILL_IN \")"
   ]
  },
  {
   "cell_type": "code",
   "execution_count": 6,
   "id": "e37fec18",
   "metadata": {},
   "outputs": [],
   "source": [
    "# Create a batch of size 2 with entries [0, 1, 2] and [2, 3, 4] in the data batch.\n",
    "x = \" FILL_IN \""
   ]
  },
  {
   "cell_type": "code",
   "execution_count": 8,
   "id": "d6f3a839",
   "metadata": {},
   "outputs": [],
   "source": [
    "# What is the dimesion of this batch ran through the embeding layer?\n",
    "assert(e(x).shape == \" FILL_IN \")"
   ]
  },
  {
   "cell_type": "code",
   "execution_count": null,
   "id": "d3422e57",
   "metadata": {},
   "outputs": [],
   "source": []
  },
  {
   "cell_type": "markdown",
   "id": "b9140e3c",
   "metadata": {},
   "source": [
    "### Constants and configs used below."
   ]
  },
  {
   "cell_type": "code",
   "execution_count": 4,
   "id": "c9ace94f",
   "metadata": {},
   "outputs": [],
   "source": [
    "DEVICE = \"cpu\"\n",
    "LR = 4.0\n",
    "BATCH_SIZE = 16\n",
    "NUM_EPOCHS = 5\n",
    "MARKER = '.'\n",
    "# N-gram level; P(w_t | w_{t-1}, ..., w_{t-n+1}).\n",
    "# We use 3 words to predict the next word.\n",
    "n = 4\n",
    "# Hidden layer dimension.\n",
    "h = 20\n",
    "# Word embedding dimension.\n",
    "m = 20"
   ]
  },
  {
   "cell_type": "code",
   "execution_count": null,
   "id": "2ff816ac",
   "metadata": {},
   "outputs": [],
   "source": []
  },
  {
   "cell_type": "markdown",
   "id": "09f16039",
   "metadata": {},
   "source": [
    "### Get the dataset and the tokenizer."
   ]
  },
  {
   "cell_type": "code",
   "execution_count": 8,
   "id": "9c4dca3a",
   "metadata": {},
   "outputs": [],
   "source": [
    "class CharDataset(Dataset):\n",
    "    def __init__(self, words, chars):\n",
    "        self.words = words\n",
    "        self.chars = chars\n",
    "        # Inverse dictionaries mapping char tokens to unique ids and the reverse.\n",
    "        # Tokens in this case are the unique chars we passed in above.\n",
    "        # Each token should be mappend to a unique integer and MARKER should have token 0.\n",
    "        # For example, stoi should be like {'.' -> 0, 'a' -> 1, 'b' -> 2} if I pass in chars = '.ab'.\n",
    "        self.stoi = dict(zip([char for char in self.chars], [i for i in range(len(self.chars))]))\n",
    "        self.itos = dict(zip([value for value in self.stoi.values()], [key for key in self.stoi])) # Inverse mapping.\n",
    "\n",
    "    def __len__(self):\n",
    "        # Number of words.\n",
    "        return len(self.words)\n",
    "\n",
    "    def contains(self, word):\n",
    "        # Check if word is in self.words and return True/False if it is, is not.\n",
    "        return word in self.words\n",
    "\n",
    "    def get_vocab_size(self):\n",
    "        # Return the vocabulary size.\n",
    "        return len(self.chars)\n",
    "\n",
    "    def encode(self, word):\n",
    "        # Express this word as a list of int ids. For example, maybe \".abc\" -> [0, 1, 2, 3].\n",
    "        # This assumes 'a' -> 1, etc.\n",
    "        return [self.stoi[char] for char in word]\n",
    "    \n",
    "    def decode(self, tokens):\n",
    "        # For a set of tokens, return back the string.\n",
    "        # For example, maybe [1, 1, 2] -> \"aac\"\n",
    "        return \"\".join([self.itos[idx] for idx in tokens])\n",
    "\n",
    "    def __getitem__(self, idx):\n",
    "        # This is used so we can loop over the data.\n",
    "        word = self.words[idx]\n",
    "        return self.encode(word)"
   ]
  },
  {
   "cell_type": "code",
   "execution_count": 3,
   "id": "a0b9f98f",
   "metadata": {},
   "outputs": [
    {
     "name": "stdout",
     "output_type": "stream",
     "text": [
      "{'a', 'c', 'b'}\n"
     ]
    }
   ],
   "source": [
    "print(set(\"abcc\"))"
   ]
  },
  {
   "cell_type": "code",
   "execution_count": 6,
   "id": "32e480ba",
   "metadata": {},
   "outputs": [],
   "source": [
    "def create_datasets(window, input_file = 'names.txt'):\n",
    "    \"\"\"\n",
    "    This takes a file of words and separates all the words.\n",
    "    It then gets all the characters present in the universe of words and then ouputs the statistics. \n",
    "    \"\"\"\n",
    "    with open(input_file, 'r') as f:\n",
    "        data = f.read()\n",
    "    # Split the file by new lines. You should get a list of names.\n",
    "    words = data.split(\"\\n\")\n",
    "    words = [word.strip() for word in words] # This gets rid of any trailing and starting white spaces.\n",
    "    words = list(filter(None, words)) # Filter out all the empty words.\n",
    "    \n",
    "    chars = list(set(\"\".join(words))) # This gets the universe of all characters.\n",
    "    \n",
    "    # Will force chars to have MARKER having index 0.\n",
    "    chars= [MARKER] + chars\n",
    "    \n",
    "    # Pad each word with a context window of size n-1.\n",
    "    # Why? a word like \"abc\" should becomes \"..abc..\" if the window is size 3.\n",
    "    # This is some we can get pair of (x, y) data like this: \"..\" -> \"a\", \".a\" -> \"b\", \"ab\" -> \"c\", \"bc\" -> \".\", \"c.\" -> \".\"\n",
    "    # I.e. this allows us to know that \"a\" is a start character.\n",
    "    # So you should get something like [\"ab\", \"c\"] -> [\"..ab..\", \"..c..\"], for example.\n",
    "    words = [\".\"*(window - 1) + word + \".\"*(window - 1) for word in words]\n",
    "            \n",
    "    print(f\"The number of examples in the dataset: {len(words)}\")\n",
    "    print(f\"The number of unique characters in the vocabulary: {len(chars)}\")\n",
    "    print(f\"The vocabulary we have is: {''.join(chars)}\")\n",
    "\n",
    "    # Partition the input data into a training, validation, and the test set.\n",
    "    out_of_sample_set_size = min(2000, int(len(words) * 0.1)) # We use 10% of the training set, or up to 2000 examples.\n",
    "    test_set_size = 1500\n",
    "    \n",
    "    # First, get a random permutation of randomly permute of size len(words).\n",
    "    # Then, convert this to a list. \n",
    "    # This index list is used below to get the train, validation, and test sets.\n",
    "    rp = torch.randperm(len(words)).tolist()\n",
    "    \n",
    "    # Get train, validation, and test set.\n",
    "    train_words = [words[i] for i in rp[:-out_of_sample_set_size]]\n",
    "    validation_words = [words[i] for i in rp[-out_of_sample_set_size:-test_set_size]]\n",
    "    test_words = [words[i] for i in rp[-test_set_size:]]    \n",
    "    \n",
    "    print(f\"We've split up the dataset into {len(train_words)}, {len(validation_words)}, {len(test_words)} training, validation, and test examples\")\n",
    "\n",
    "    # But the data in the data set objects.\n",
    "    train_dataset = CharDataset(train_words, chars)\n",
    "    validation_dataset = CharDataset(validation_words, chars)\n",
    "    test_dataset = CharDataset(test_words, chars)\n",
    "\n",
    "    return train_dataset, validation_dataset, test_dataset"
   ]
  },
  {
   "cell_type": "code",
   "execution_count": 9,
   "id": "36b97647",
   "metadata": {},
   "outputs": [
    {
     "name": "stdout",
     "output_type": "stream",
     "text": [
      "The number of examples in the dataset: 32033\n",
      "The number of unique characters in the vocabulary: 27\n",
      "The vocabulary we have is: .lfijgxqkhrpuszbwecdnmyotva\n",
      "We've split up the dataset into 30033, 500, 1500 training, validation, and test examples\n"
     ]
    }
   ],
   "source": [
    "train_dataset, validation_dataset, test_dataset = create_datasets(n)"
   ]
  },
  {
   "cell_type": "code",
   "execution_count": null,
   "id": "00f87ddb",
   "metadata": {},
   "outputs": [],
   "source": []
  },
  {
   "cell_type": "markdown",
   "id": "707b45bc",
   "metadata": {},
   "source": [
    "## Explore the data"
   ]
  },
  {
   "cell_type": "code",
   "execution_count": 10,
   "id": "c6cb698c",
   "metadata": {},
   "outputs": [
    {
     "data": {
      "text/plain": [
       "[0, 0, 0, 24, 14, 3, 11, 23, 10, 26, 9, 0, 0, 0]"
      ]
     },
     "execution_count": 10,
     "metadata": {},
     "output_type": "execute_result"
    }
   ],
   "source": [
    "# Get the first word in \"train_dataset\"\n",
    "train_dataset[0]"
   ]
  },
  {
   "cell_type": "code",
   "execution_count": 11,
   "id": "8369b489",
   "metadata": {},
   "outputs": [
    {
     "data": {
      "text/plain": [
       "{'.': 0,\n",
       " 'l': 1,\n",
       " 'f': 2,\n",
       " 'i': 3,\n",
       " 'j': 4,\n",
       " 'g': 5,\n",
       " 'x': 6,\n",
       " 'q': 7,\n",
       " 'k': 8,\n",
       " 'h': 9,\n",
       " 'r': 10,\n",
       " 'p': 11,\n",
       " 'u': 12,\n",
       " 's': 13,\n",
       " 'z': 14,\n",
       " 'b': 15,\n",
       " 'w': 16,\n",
       " 'e': 17,\n",
       " 'c': 18,\n",
       " 'd': 19,\n",
       " 'n': 20,\n",
       " 'm': 21,\n",
       " 'y': 22,\n",
       " 'o': 23,\n",
       " 't': 24,\n",
       " 'v': 25,\n",
       " 'a': 26}"
      ]
     },
     "execution_count": 11,
     "metadata": {},
     "output_type": "execute_result"
    }
   ],
   "source": [
    "# Get the stoi map of train_dataset. How many keys does it have?\n",
    "train_dataset.stoi"
   ]
  },
  {
   "cell_type": "code",
   "execution_count": 13,
   "id": "7b9c5ecc",
   "metadata": {},
   "outputs": [
    {
     "data": {
      "text/plain": [
       "'abc'"
      ]
     },
     "execution_count": 13,
     "metadata": {},
     "output_type": "execute_result"
    }
   ],
   "source": []
  },
  {
   "cell_type": "markdown",
   "id": "4e4881fe",
   "metadata": {},
   "source": [
    "### Get the dataloader"
   ]
  },
  {
   "cell_type": "code",
   "execution_count": 15,
   "id": "8f7967c4",
   "metadata": {},
   "outputs": [],
   "source": [
    "def create_dataloader(dataset, window):\n",
    "    x_list = []\n",
    "    y_list = []\n",
    "    # For ech word.\n",
    "    for i, word in enumerate(dataset):\n",
    "        # Grab a context of size window and window-1 characters will be in x, 1 will be in y.\n",
    "        for j, _ in enumerate(word):\n",
    "            # If there is no widow of size window left, break.\n",
    "            if j + window > len(word) - 1:\n",
    "                break\n",
    "            word_window = word[j: j+window]\n",
    "            x, y = word_window[:-1], word_window[-1]\n",
    "            x_list.append(x)\n",
    "            y_list.append(y)\n",
    "            \n",
    "    return DataLoader(\n",
    "        TensorDataset(torch.tensor(x_list), torch.tensor(y_list)),\n",
    "        BATCH_SIZE,\n",
    "        shuffle=True\n",
    "    )"
   ]
  },
  {
   "cell_type": "code",
   "execution_count": null,
   "id": "019ed04c",
   "metadata": {},
   "outputs": [],
   "source": []
  },
  {
   "cell_type": "code",
   "execution_count": 16,
   "id": "5086d90b",
   "metadata": {},
   "outputs": [],
   "source": [
    "train_dataloader = create_dataloader(train_dataset, n)\n",
    "validation_dataloader = create_dataloader(validation_dataset, n)\n",
    "test_dataloader = create_dataloader(test_dataset, n)"
   ]
  },
  {
   "cell_type": "code",
   "execution_count": null,
   "id": "a3c8d054",
   "metadata": {},
   "outputs": [],
   "source": []
  },
  {
   "cell_type": "markdown",
   "id": "eca51b36",
   "metadata": {},
   "source": [
    "### Set up the model\n",
    "- Identical to lecture. Please look over that!"
   ]
  },
  {
   "cell_type": "code",
   "execution_count": 27,
   "id": "8ab8cb7c",
   "metadata": {},
   "outputs": [],
   "source": [
    "# One of the first Neural language models!\n",
    "class CharacterNeuralLanguageModel(nn.Module):\n",
    "    def __init__(self, V, m, h, n):\n",
    "        super(CharacterNeuralLanguageModel, self).__init__()\n",
    "        \n",
    "        # Vocabulary size.\n",
    "        self.V = V\n",
    "        \n",
    "        # Embedding dimension, per word.\n",
    "        self.m = m\n",
    "        \n",
    "        # Hidden dimension.\n",
    "        self.h = h\n",
    "        \n",
    "        # N in \"N-gram\"\n",
    "        self.n = n\n",
    "        \n",
    "        # Can you change all this stuff to use nn.Linear?\n",
    "        # Ca also use nn.Parameter(torch.zeros(V, m)) for self.C but then we need one-hot and this is slow.\n",
    "        self.C = nn.Embedding(V, m)\n",
    "        self.H = nn.Parameter(torch.zeros(m * (n-1), h))\n",
    "        self.W = nn.Parameter(torch.zeros(m * (n-1), V))\n",
    "        self.U = nn.Parameter(torch.zeros(h,V))\n",
    "        \n",
    "        self.b = nn.Parameter(torch.zeros(V))\n",
    "        self.d = nn.Parameter(torch.zeros(h))\n",
    "        \n",
    "        self.init_weights()\n",
    "\n",
    "    def init_weights(self):\n",
    "        # Intitialize C, H, W, U in a nice way. Use xavier initialization for the weights.\n",
    "        # On a first run, just pass.\n",
    "        nn.init.xavier_uniform_(self.C.weight)\n",
    "        nn.init.xavier_uniform_(self.H)\n",
    "        nn.init.xavier_uniform_(self.W)\n",
    "        nn.init.xavier_uniform_(self.U)\n",
    "        pass # Replace this pass with something else.\n",
    "        \n",
    "    def forward(self, x):\n",
    "        \n",
    "        # x is of dimenson N = batch size X n-1\n",
    "        \n",
    "        # N X (n-1) X m \n",
    "        x = self.C(x)\n",
    "        \n",
    "        # N\n",
    "        N = x.shape[0]\n",
    "        \n",
    "        # N X (n-1) * m\n",
    "        x = x.view(N, -1)\n",
    "    \n",
    "        # N X V\n",
    "        y = self.b + torch.matmul(x, self.W) + torch.matmul(nn.Tanh()(self.d + torch.matmul(x, self.H)), self.U)\n",
    "        \n",
    "        return y"
   ]
  },
  {
   "cell_type": "code",
   "execution_count": null,
   "id": "a43d569e",
   "metadata": {},
   "outputs": [],
   "source": []
  },
  {
   "cell_type": "markdown",
   "id": "899045e6",
   "metadata": {},
   "source": [
    "### Set up the model."
   ]
  },
  {
   "cell_type": "code",
   "execution_count": 30,
   "id": "02b8e0df",
   "metadata": {},
   "outputs": [],
   "source": [
    "# Identical to lecture.\n",
    "criterion = torch.nn.CrossEntropyLoss().to(DEVICE)\n",
    "model = CharacterNeuralLanguageModel(\n",
    "    train_dataset.get_vocab_size(), m, h, n\n",
    ").to(DEVICE)\n",
    "optimizer = torch.optim.SGD(model.parameters(), lr=LR)\n",
    "scheduler = torch.optim.lr_scheduler.StepLR(optimizer, 1.0, gamma=0.1)"
   ]
  },
  {
   "cell_type": "code",
   "execution_count": null,
   "id": "10508c63",
   "metadata": {},
   "outputs": [],
   "source": [
    "# How many parameters does the neural network have?\n",
    "# Hint: look up model.named_parameters and the method \"nelement\" on a tensor.\n",
    "# See also the XOR notebook where we count the gradients that are 0.\n",
    "# There, we loop over the parameters.\n",
    "number_parameters = model.named_parameters"
   ]
  },
  {
   "cell_type": "code",
   "execution_count": 32,
   "id": "6d91dc71",
   "metadata": {},
   "outputs": [
    {
     "data": {
      "text/plain": [
       "<bound method Module.parameters of CharacterNeuralLanguageModel(\n",
       "  (C): Embedding(27, 20)\n",
       ")>"
      ]
     },
     "execution_count": 32,
     "metadata": {},
     "output_type": "execute_result"
    }
   ],
   "source": [
    "model.parameters"
   ]
  },
  {
   "cell_type": "markdown",
   "id": "72b5bb91",
   "metadata": {},
   "source": [
    "### Train the model."
   ]
  },
  {
   "cell_type": "code",
   "execution_count": 33,
   "id": "e49ebc7f",
   "metadata": {},
   "outputs": [],
   "source": [
    "def calculate_perplexity(total_loss, total_batches):\n",
    "    return torch.exp(torch.tensor(total_loss / total_batches)).item()"
   ]
  },
  {
   "cell_type": "code",
   "execution_count": 34,
   "id": "d58cc1a9",
   "metadata": {},
   "outputs": [],
   "source": [
    "def train(dataloader, model, optimizer, criterion, epoch):\n",
    "    model.train()\n",
    "    total_loss, total_batches = 0.0, 0.0\n",
    "    log_interval = 500\n",
    "\n",
    "    for idx, (x, y) in tqdm(enumerate(dataloader)):\n",
    "        optimizer.zero_grad()\n",
    "        \n",
    "        logits = model(x)\n",
    "                        \n",
    "        # Get the loss.\n",
    "        loss = criterion(input=logits, target=y.squeeze(-1))\n",
    "\n",
    "        # Do back propagation.\n",
    "        loss.backward()\n",
    "                        \n",
    "        # Clip the gradients so they don't explode. Look at how this is done in lecture.\n",
    "        torch.nn.utils.clip_grad_norm_(model.parameters(), 0.1)\n",
    "        \n",
    "        # Do an optimization step.\n",
    "        optimizer.step()\n",
    "        \n",
    "        total_loss += loss.item()\n",
    "        total_batches += 1\n",
    "                \n",
    "        if idx % log_interval == 0 and idx > 0:\n",
    "            perplexity = calculate_perplexity(total_loss,  total_batches)\n",
    "            print(\n",
    "                \"| epoch {:3d} \"\n",
    "                \"| {:5d}/{:5d} batches \"\n",
    "                \"| perplexity {:8.3f} \"\n",
    "                \"| loss {:8.3f} \"\n",
    "                .format(\n",
    "                    epoch,\n",
    "                    idx,\n",
    "                    len(dataloader),\n",
    "                    perplexity,\n",
    "                    total_loss / total_batches,\n",
    "                )\n",
    "            )\n",
    "            total_loss, total_batches = 0.0, 0"
   ]
  },
  {
   "cell_type": "code",
   "execution_count": 35,
   "id": "85722617",
   "metadata": {},
   "outputs": [],
   "source": [
    "def evaluate(dataloader, model, criterion):\n",
    "    model.eval()\n",
    "    total_loss, total_batches = 0.0, 0\n",
    "\n",
    "    with torch.no_grad():\n",
    "        for idx, (x, y) in enumerate(dataloader):\n",
    "            logits = model(x)\n",
    "            total_loss += criterion(input=logits, target=y.squeeze(-1)).item()\n",
    "            total_batches += 1\n",
    "    return total_loss / total_batches, calculate_perplexity(total_loss,  total_batches)"
   ]
  },
  {
   "cell_type": "code",
   "execution_count": 36,
   "id": "21ba24f3",
   "metadata": {},
   "outputs": [
    {
     "name": "stderr",
     "output_type": "stream",
     "text": [
      "987it [00:00, 2689.29it/s]"
     ]
    },
    {
     "name": "stdout",
     "output_type": "stream",
     "text": [
      "| epoch   1 |   500/15251 batches | perplexity    9.621 | loss    2.264 \n",
      "| epoch   1 |  1000/15251 batches | perplexity    8.731 | loss    2.167 \n"
     ]
    },
    {
     "name": "stderr",
     "output_type": "stream",
     "text": [
      "1862it [00:00, 2858.55it/s]"
     ]
    },
    {
     "name": "stdout",
     "output_type": "stream",
     "text": [
      "| epoch   1 |  1500/15251 batches | perplexity    8.481 | loss    2.138 \n",
      "| epoch   1 |  2000/15251 batches | perplexity    8.297 | loss    2.116 \n"
     ]
    },
    {
     "name": "stderr",
     "output_type": "stream",
     "text": [
      "3075it [00:01, 2999.45it/s]"
     ]
    },
    {
     "name": "stdout",
     "output_type": "stream",
     "text": [
      "| epoch   1 |  2500/15251 batches | perplexity    8.352 | loss    2.123 \n",
      "| epoch   1 |  3000/15251 batches | perplexity    8.212 | loss    2.106 \n"
     ]
    },
    {
     "name": "stderr",
     "output_type": "stream",
     "text": [
      "3982it [00:01, 3009.61it/s]"
     ]
    },
    {
     "name": "stdout",
     "output_type": "stream",
     "text": [
      "| epoch   1 |  3500/15251 batches | perplexity    8.135 | loss    2.096 \n",
      "| epoch   1 |  4000/15251 batches | perplexity    8.261 | loss    2.111 \n"
     ]
    },
    {
     "name": "stderr",
     "output_type": "stream",
     "text": [
      "4886it [00:01, 3001.48it/s]"
     ]
    },
    {
     "name": "stdout",
     "output_type": "stream",
     "text": [
      "| epoch   1 |  4500/15251 batches | perplexity    8.020 | loss    2.082 \n",
      "| epoch   1 |  5000/15251 batches | perplexity    8.119 | loss    2.094 \n"
     ]
    },
    {
     "name": "stderr",
     "output_type": "stream",
     "text": [
      "6088it [00:02, 2993.19it/s]"
     ]
    },
    {
     "name": "stdout",
     "output_type": "stream",
     "text": [
      "| epoch   1 |  5500/15251 batches | perplexity    8.047 | loss    2.085 \n",
      "| epoch   1 |  6000/15251 batches | perplexity    8.069 | loss    2.088 \n"
     ]
    },
    {
     "name": "stderr",
     "output_type": "stream",
     "text": [
      "6986it [00:02, 2975.94it/s]"
     ]
    },
    {
     "name": "stdout",
     "output_type": "stream",
     "text": [
      "| epoch   1 |  6500/15251 batches | perplexity    8.109 | loss    2.093 \n",
      "| epoch   1 |  7000/15251 batches | perplexity    7.944 | loss    2.072 \n"
     ]
    },
    {
     "name": "stderr",
     "output_type": "stream",
     "text": [
      "7898it [00:02, 3018.55it/s]"
     ]
    },
    {
     "name": "stdout",
     "output_type": "stream",
     "text": [
      "| epoch   1 |  7500/15251 batches | perplexity    7.837 | loss    2.059 \n",
      "| epoch   1 |  8000/15251 batches | perplexity    8.226 | loss    2.107 \n"
     ]
    },
    {
     "name": "stderr",
     "output_type": "stream",
     "text": [
      "8801it [00:03, 2814.30it/s]"
     ]
    },
    {
     "name": "stdout",
     "output_type": "stream",
     "text": [
      "| epoch   1 |  8500/15251 batches | perplexity    8.048 | loss    2.085 \n",
      "| epoch   1 |  9000/15251 batches | perplexity    8.033 | loss    2.084 \n"
     ]
    },
    {
     "name": "stderr",
     "output_type": "stream",
     "text": [
      "9998it [00:03, 2947.59it/s]"
     ]
    },
    {
     "name": "stdout",
     "output_type": "stream",
     "text": [
      "| epoch   1 |  9500/15251 batches | perplexity    8.098 | loss    2.092 \n",
      "| epoch   1 | 10000/15251 batches | perplexity    8.018 | loss    2.082 \n"
     ]
    },
    {
     "name": "stderr",
     "output_type": "stream",
     "text": [
      "10904it [00:03, 2996.88it/s]"
     ]
    },
    {
     "name": "stdout",
     "output_type": "stream",
     "text": [
      "| epoch   1 | 10500/15251 batches | perplexity    8.095 | loss    2.091 \n",
      "| epoch   1 | 11000/15251 batches | perplexity    8.057 | loss    2.086 \n"
     ]
    },
    {
     "name": "stderr",
     "output_type": "stream",
     "text": [
      "11814it [00:04, 3013.71it/s]"
     ]
    },
    {
     "name": "stdout",
     "output_type": "stream",
     "text": [
      "| epoch   1 | 11500/15251 batches | perplexity    8.024 | loss    2.082 \n",
      "| epoch   1 | 12000/15251 batches | perplexity    8.028 | loss    2.083 \n"
     ]
    },
    {
     "name": "stderr",
     "output_type": "stream",
     "text": [
      "13016it [00:04, 2964.32it/s]"
     ]
    },
    {
     "name": "stdout",
     "output_type": "stream",
     "text": [
      "| epoch   1 | 12500/15251 batches | perplexity    8.006 | loss    2.080 \n",
      "| epoch   1 | 13000/15251 batches | perplexity    7.957 | loss    2.074 \n"
     ]
    },
    {
     "name": "stderr",
     "output_type": "stream",
     "text": [
      "13920it [00:04, 2999.51it/s]"
     ]
    },
    {
     "name": "stdout",
     "output_type": "stream",
     "text": [
      "| epoch   1 | 13500/15251 batches | perplexity    7.834 | loss    2.059 \n",
      "| epoch   1 | 14000/15251 batches | perplexity    7.791 | loss    2.053 \n"
     ]
    },
    {
     "name": "stderr",
     "output_type": "stream",
     "text": [
      "14817it [00:05, 2951.83it/s]"
     ]
    },
    {
     "name": "stdout",
     "output_type": "stream",
     "text": [
      "| epoch   1 | 14500/15251 batches | perplexity    7.670 | loss    2.037 \n",
      "| epoch   1 | 15000/15251 batches | perplexity    7.942 | loss    2.072 \n"
     ]
    },
    {
     "name": "stderr",
     "output_type": "stream",
     "text": [
      "15250it [00:05, 2911.82it/s]\n"
     ]
    },
    {
     "ename": "ValueError",
     "evalue": "Expected input batch_size (1) to match target batch_size (0).",
     "output_type": "error",
     "traceback": [
      "\u001b[0;31m---------------------------------------------------------------------------\u001b[0m",
      "\u001b[0;31mValueError\u001b[0m                                Traceback (most recent call last)",
      "Cell \u001b[0;32mIn [36], line 3\u001b[0m\n\u001b[1;32m      1\u001b[0m \u001b[39mfor\u001b[39;00m epoch \u001b[39min\u001b[39;00m \u001b[39mrange\u001b[39m(\u001b[39m1\u001b[39m, NUM_EPOCHS \u001b[39m+\u001b[39m \u001b[39m1\u001b[39m):\n\u001b[1;32m      2\u001b[0m     epoch_start_time \u001b[39m=\u001b[39m time\u001b[39m.\u001b[39mtime()\n\u001b[0;32m----> 3\u001b[0m     train(train_dataloader, model, optimizer, criterion, epoch)\n\u001b[1;32m      4\u001b[0m     loss_val, perplexity_val \u001b[39m=\u001b[39m evaluate(validation_dataloader, model, criterion)\n\u001b[1;32m      5\u001b[0m     scheduler\u001b[39m.\u001b[39mstep()\n",
      "Cell \u001b[0;32mIn [34], line 12\u001b[0m, in \u001b[0;36mtrain\u001b[0;34m(dataloader, model, optimizer, criterion, epoch)\u001b[0m\n\u001b[1;32m      9\u001b[0m logits \u001b[39m=\u001b[39m model(x)\n\u001b[1;32m     11\u001b[0m \u001b[39m# Get the loss.\u001b[39;00m\n\u001b[0;32m---> 12\u001b[0m loss \u001b[39m=\u001b[39m criterion(\u001b[39minput\u001b[39;49m\u001b[39m=\u001b[39;49mlogits, target\u001b[39m=\u001b[39;49my\u001b[39m.\u001b[39;49msqueeze(\u001b[39m-\u001b[39;49m\u001b[39m1\u001b[39;49m))\n\u001b[1;32m     14\u001b[0m \u001b[39m# Do back propagation.\u001b[39;00m\n\u001b[1;32m     15\u001b[0m loss\u001b[39m.\u001b[39mbackward()\n",
      "File \u001b[0;32m~/opt/miniconda3/envs/env1/lib/python3.10/site-packages/torch/nn/modules/module.py:1194\u001b[0m, in \u001b[0;36mModule._call_impl\u001b[0;34m(self, *input, **kwargs)\u001b[0m\n\u001b[1;32m   1190\u001b[0m \u001b[39m# If we don't have any hooks, we want to skip the rest of the logic in\u001b[39;00m\n\u001b[1;32m   1191\u001b[0m \u001b[39m# this function, and just call forward.\u001b[39;00m\n\u001b[1;32m   1192\u001b[0m \u001b[39mif\u001b[39;00m \u001b[39mnot\u001b[39;00m (\u001b[39mself\u001b[39m\u001b[39m.\u001b[39m_backward_hooks \u001b[39mor\u001b[39;00m \u001b[39mself\u001b[39m\u001b[39m.\u001b[39m_forward_hooks \u001b[39mor\u001b[39;00m \u001b[39mself\u001b[39m\u001b[39m.\u001b[39m_forward_pre_hooks \u001b[39mor\u001b[39;00m _global_backward_hooks\n\u001b[1;32m   1193\u001b[0m         \u001b[39mor\u001b[39;00m _global_forward_hooks \u001b[39mor\u001b[39;00m _global_forward_pre_hooks):\n\u001b[0;32m-> 1194\u001b[0m     \u001b[39mreturn\u001b[39;00m forward_call(\u001b[39m*\u001b[39;49m\u001b[39minput\u001b[39;49m, \u001b[39m*\u001b[39;49m\u001b[39m*\u001b[39;49mkwargs)\n\u001b[1;32m   1195\u001b[0m \u001b[39m# Do not call functions when jit is used\u001b[39;00m\n\u001b[1;32m   1196\u001b[0m full_backward_hooks, non_full_backward_hooks \u001b[39m=\u001b[39m [], []\n",
      "File \u001b[0;32m~/opt/miniconda3/envs/env1/lib/python3.10/site-packages/torch/nn/modules/loss.py:1174\u001b[0m, in \u001b[0;36mCrossEntropyLoss.forward\u001b[0;34m(self, input, target)\u001b[0m\n\u001b[1;32m   1173\u001b[0m \u001b[39mdef\u001b[39;00m \u001b[39mforward\u001b[39m(\u001b[39mself\u001b[39m, \u001b[39minput\u001b[39m: Tensor, target: Tensor) \u001b[39m-\u001b[39m\u001b[39m>\u001b[39m Tensor:\n\u001b[0;32m-> 1174\u001b[0m     \u001b[39mreturn\u001b[39;00m F\u001b[39m.\u001b[39;49mcross_entropy(\u001b[39minput\u001b[39;49m, target, weight\u001b[39m=\u001b[39;49m\u001b[39mself\u001b[39;49m\u001b[39m.\u001b[39;49mweight,\n\u001b[1;32m   1175\u001b[0m                            ignore_index\u001b[39m=\u001b[39;49m\u001b[39mself\u001b[39;49m\u001b[39m.\u001b[39;49mignore_index, reduction\u001b[39m=\u001b[39;49m\u001b[39mself\u001b[39;49m\u001b[39m.\u001b[39;49mreduction,\n\u001b[1;32m   1176\u001b[0m                            label_smoothing\u001b[39m=\u001b[39;49m\u001b[39mself\u001b[39;49m\u001b[39m.\u001b[39;49mlabel_smoothing)\n",
      "File \u001b[0;32m~/opt/miniconda3/envs/env1/lib/python3.10/site-packages/torch/nn/functional.py:3026\u001b[0m, in \u001b[0;36mcross_entropy\u001b[0;34m(input, target, weight, size_average, ignore_index, reduce, reduction, label_smoothing)\u001b[0m\n\u001b[1;32m   3024\u001b[0m \u001b[39mif\u001b[39;00m size_average \u001b[39mis\u001b[39;00m \u001b[39mnot\u001b[39;00m \u001b[39mNone\u001b[39;00m \u001b[39mor\u001b[39;00m reduce \u001b[39mis\u001b[39;00m \u001b[39mnot\u001b[39;00m \u001b[39mNone\u001b[39;00m:\n\u001b[1;32m   3025\u001b[0m     reduction \u001b[39m=\u001b[39m _Reduction\u001b[39m.\u001b[39mlegacy_get_string(size_average, reduce)\n\u001b[0;32m-> 3026\u001b[0m \u001b[39mreturn\u001b[39;00m torch\u001b[39m.\u001b[39;49m_C\u001b[39m.\u001b[39;49m_nn\u001b[39m.\u001b[39;49mcross_entropy_loss(\u001b[39minput\u001b[39;49m, target, weight, _Reduction\u001b[39m.\u001b[39;49mget_enum(reduction), ignore_index, label_smoothing)\n",
      "\u001b[0;31mValueError\u001b[0m: Expected input batch_size (1) to match target batch_size (0)."
     ]
    }
   ],
   "source": [
    "for epoch in range(1, NUM_EPOCHS + 1):\n",
    "    epoch_start_time = time.time()\n",
    "    train(train_dataloader, model, optimizer, criterion, epoch)\n",
    "    loss_val, perplexity_val = evaluate(validation_dataloader, model, criterion)\n",
    "    scheduler.step()\n",
    "    print(\"-\" * 59)\n",
    "    print(\n",
    "        \"| end of epoch {:3d} \"\n",
    "        \"| time: {:5.2f}s \"\n",
    "        \"| valid perplexity {:8.3f} \"\n",
    "        \"| valid loss {:8.3f}\".format(\n",
    "            epoch,\n",
    "            time.time() - epoch_start_time,\n",
    "            perplexity_val,\n",
    "            loss_val\n",
    "        )\n",
    "    )\n",
    "    print(\"-\" * 59)\n",
    "\n",
    "print(\"Checking the results of test dataset.\")\n",
    "loss_test, perplexity_test = evaluate(test_dataloader, model, criterion)\n",
    "print(\"test perplexity {:8.3f} | test loss {:8.3f} \".format(perplexity_test, loss_test))"
   ]
  },
  {
   "cell_type": "markdown",
   "id": "8d091ff8",
   "metadata": {},
   "source": [
    "Hint: For the above, you should see your loss around 2.0 and going down. Similarly to perplexity which should be aroud 7 to 8."
   ]
  },
  {
   "cell_type": "code",
   "execution_count": null,
   "id": "5fd8a0e8",
   "metadata": {},
   "outputs": [],
   "source": []
  },
  {
   "cell_type": "markdown",
   "id": "1de0230d",
   "metadata": {},
   "source": [
    "## Generate some text."
   ]
  },
  {
   "cell_type": "code",
   "execution_count": 59,
   "id": "6e97642c",
   "metadata": {},
   "outputs": [],
   "source": [
    "def generate_word(model, dataset, window):\n",
    "    generated_word = []\n",
    "    # Set the context to a window-1 length array having just the MARKER character's token_id.\n",
    "    context = \" FILL_IN \"\n",
    "    \n",
    "    while True:\n",
    "        logits = model(torch.tensor(context).view(1, -1))\n",
    "        \n",
    "        # Get the probabilities from the logits.\n",
    "        # Hint: softmax!\n",
    "        probs = \" FILL_IN \"\n",
    "        \n",
    "        # Get 1 sample from a multinomial having the above probabilities.\n",
    "        token_id = torch.multinomial(\" FILL_IN \").item()\n",
    "        \n",
    "        # Append the token_id to the generated word.\n",
    "        \" FILL_IN \"\n",
    "        \n",
    "        # Move the context over 1, drop the first (oldest) token and apped the new one above.\n",
    "        # The size of the resulting context should be the same.\n",
    "        # For exaple, if it was \"[0, 1, 2]\" and you generated 4, it should now be [1, 2, 4].\n",
    "        context = \" FILL_IN \"\n",
    "        \n",
    "        if token_id == 0:\n",
    "            # If you generate token_id = 0, i.e. '.', break out.\n",
    "            \" FILL_IN \"\n",
    "    # Return and decode the generated word to a string.        \n",
    "    return ''.join(dataset.decode(generated_word))"
   ]
  },
  {
   "cell_type": "code",
   "execution_count": 61,
   "id": "238d0894",
   "metadata": {},
   "outputs": [
    {
     "name": "stdout",
     "output_type": "stream",
     "text": [
      "aha.\n",
      "ele.\n",
      "lia.\n",
      "aldi.\n",
      "jarorsse.\n",
      "dez.\n",
      "bemartti.\n",
      "rielci.\n",
      "revy.\n",
      "madlais.\n",
      "hoanda.\n",
      "dacelia.\n",
      "kalaliey.\n",
      "chis.\n",
      "mayas.\n",
      "tya.\n",
      "jon.\n",
      "ama.\n",
      "tze.\n",
      "karies.\n",
      "jos.\n",
      "ahkl.\n",
      "bamaka.\n",
      "anyaamiush.\n",
      "kazerher.\n",
      "jami.\n",
      "nnek.\n",
      "maremellen.\n",
      "toquyla.\n",
      "nzygu.\n",
      "enyl.\n",
      "yanstram.\n",
      "ahazoriexsunya.\n",
      "sermontiroonn.\n",
      "eifiah.\n",
      "rosi.\n",
      "rouivan.\n",
      "ynn.\n",
      "ahdityn.\n",
      "jassavoli.\n",
      "wun.\n",
      "jayvarante.\n",
      "nor.\n",
      "ilyn.\n",
      "marri.\n",
      "allifare.\n",
      "kalyi.\n",
      "daslenshanna.\n",
      "daniellaenimanaililah.\n",
      "cyle.\n"
     ]
    }
   ],
   "source": [
    "torch.manual_seed(1)\n",
    "for _ in range(50):\n",
    "    print(generate_word(model, train_dataset, n))"
   ]
  },
  {
   "cell_type": "code",
   "execution_count": null,
   "id": "8ba54ed8",
   "metadata": {},
   "outputs": [],
   "source": []
  },
  {
   "cell_type": "code",
   "execution_count": null,
   "id": "395186b7",
   "metadata": {},
   "outputs": [],
   "source": []
  }
 ],
 "metadata": {
  "kernelspec": {
   "display_name": "env1",
   "language": "python",
   "name": "python3"
  },
  "language_info": {
   "codemirror_mode": {
    "name": "ipython",
    "version": 3
   },
   "file_extension": ".py",
   "mimetype": "text/x-python",
   "name": "python",
   "nbconvert_exporter": "python",
   "pygments_lexer": "ipython3",
   "version": "3.10.8"
  },
  "vscode": {
   "interpreter": {
    "hash": "9a6b081c12a093feba9d2034b31ec6857e724f59c488a8014a2dff341d174ebf"
   }
  }
 },
 "nbformat": 4,
 "nbformat_minor": 5
}
